{
 "cells": [
  {
   "cell_type": "markdown",
   "id": "feb095a9",
   "metadata": {},
   "source": [
    "# Ham and Spam message classification using machine learning"
   ]
  },
  {
   "cell_type": "raw",
   "id": "9396d797",
   "metadata": {},
   "source": [
    "classifying spam and  ham messages is one of the most common natural language processing tasks for emails and chat engines. with the advancements in machine learning and natural language processing techniques, it is now possible to separate spam messages from ham messages with a high depgree of accuracy."
   ]
  },
  {
   "cell_type": "code",
   "execution_count": 1,
   "id": "3c23a087",
   "metadata": {},
   "outputs": [],
   "source": [
    "# IMPORT LIBRARY\n",
    "import numpy as np\n",
    "import pandas as pd\n",
    "import nltk\n",
    "import re\n",
    "from sklearn.metrics import accuracy_score\n",
    "import matplotlib.pyplot as plt\n",
    "import seaborn as sns\n",
    "%matplotlib inline"
   ]
  },
  {
   "cell_type": "code",
   "execution_count": 2,
   "id": "f3fd6e6e",
   "metadata": {},
   "outputs": [
    {
     "data": {
      "text/html": [
       "<div>\n",
       "<style scoped>\n",
       "    .dataframe tbody tr th:only-of-type {\n",
       "        vertical-align: middle;\n",
       "    }\n",
       "\n",
       "    .dataframe tbody tr th {\n",
       "        vertical-align: top;\n",
       "    }\n",
       "\n",
       "    .dataframe thead th {\n",
       "        text-align: right;\n",
       "    }\n",
       "</style>\n",
       "<table border=\"1\" class=\"dataframe\">\n",
       "  <thead>\n",
       "    <tr style=\"text-align: right;\">\n",
       "      <th></th>\n",
       "      <th>Type</th>\n",
       "      <th>Message</th>\n",
       "    </tr>\n",
       "  </thead>\n",
       "  <tbody>\n",
       "    <tr>\n",
       "      <th>0</th>\n",
       "      <td>ham</td>\n",
       "      <td>Go until jurong point, crazy.. Available only ...</td>\n",
       "    </tr>\n",
       "    <tr>\n",
       "      <th>1</th>\n",
       "      <td>ham</td>\n",
       "      <td>Ok lar... Joking wif u oni...</td>\n",
       "    </tr>\n",
       "    <tr>\n",
       "      <th>2</th>\n",
       "      <td>spam</td>\n",
       "      <td>Free entry in 2 a wkly comp to win FA Cup fina...</td>\n",
       "    </tr>\n",
       "  </tbody>\n",
       "</table>\n",
       "</div>"
      ],
      "text/plain": [
       "   Type                                            Message\n",
       "0   ham  Go until jurong point, crazy.. Available only ...\n",
       "1   ham                      Ok lar... Joking wif u oni...\n",
       "2  spam  Free entry in 2 a wkly comp to win FA Cup fina..."
      ]
     },
     "execution_count": 2,
     "metadata": {},
     "output_type": "execute_result"
    }
   ],
   "source": [
    "# Import the dataset using the url\n",
    "dataset_url = \"https://raw.githubusercontent.com/bigmlcom/python/master/data/spam.csv\"\n",
    "dataset = pd.read_csv(dataset_url, sep='\\t')\n",
    "dataset.head(3)"
   ]
  },
  {
   "cell_type": "raw",
   "id": "a11ad88e",
   "metadata": {},
   "source": [
    "The SMS Spam Collection v.1 (hereafter the corpus) is a set of SMS tagged messages that have been collected for SMS Spam research. It contains one set of SMS messages in English of 5,574 messages, tagged acording being ham (legitimate) or spam."
   ]
  },
  {
   "cell_type": "markdown",
   "id": "4fab93df",
   "metadata": {},
   "source": [
    "# Data Visualization"
   ]
  },
  {
   "cell_type": "raw",
   "id": "e6680754",
   "metadata": {},
   "source": [
    "Before we apply machine learning algorithms to a dataset, it is always a good practice to visualize data to identify important data trends. "
   ]
  },
  {
   "cell_type": "code",
   "execution_count": 3,
   "id": "bbe13bae",
   "metadata": {},
   "outputs": [
    {
     "data": {
      "text/plain": [
       "(656, 2)"
      ]
     },
     "execution_count": 3,
     "metadata": {},
     "output_type": "execute_result"
    }
   ],
   "source": [
    "# check the dataset shape\n",
    "dataset.shape"
   ]
  },
  {
   "cell_type": "code",
   "execution_count": 4,
   "id": "96fe400c",
   "metadata": {},
   "outputs": [
    {
     "data": {
      "text/plain": [
       "Type       0\n",
       "Message    0\n",
       "dtype: int64"
      ]
     },
     "execution_count": 4,
     "metadata": {},
     "output_type": "execute_result"
    }
   ],
   "source": [
    "# Check if there is a missing value in the dataset\n",
    "dataset.isnull().sum()"
   ]
  },
  {
   "cell_type": "code",
   "execution_count": 5,
   "id": "e34a76b5",
   "metadata": {},
   "outputs": [
    {
     "data": {
      "image/png": "[encoded data removed]",
      "text/plain": [
       "<Figure size 576x720 with 1 Axes>"
      ]
     },
     "metadata": {},
     "output_type": "display_data"
    }
   ],
   "source": [
    "# Display the proportion of the ham and spam data \n",
    "plt.rcParams[\"figure.figsize\"] = [8,10] \n",
    "dataset.Type.value_counts().plot(kind='pie', autopct='%1.0f%%')\n",
    "plt.show()"
   ]
  },
  {
   "cell_type": "raw",
   "id": "496d1b6c",
   "metadata": {},
   "source": [
    "The result shows that 12% of all the messages are spam while 88% of the messages are ham. "
   ]
  },
  {
   "cell_type": "markdown",
   "id": "3ccf9d3d",
   "metadata": {},
   "source": [
    "- Create a list that contains a number of the words in ham messages and their count of occurence in  the dataset."
   ]
  },
  {
   "cell_type": "code",
   "execution_count": 6,
   "id": "a031c671",
   "metadata": {},
   "outputs": [],
   "source": [
    "# Ham Dataset \n",
    "dataset_ham = dataset[dataset['Type']=='ham']\n",
    "dataset_ham_count = dataset_ham['Message'].str.split().str.len()\n",
    "dataset_ham_count.index = dataset_ham_count.index.astype(str) + ' words:'\n",
    "dataset_ham_count.sort_index(inplace=True)"
   ]
  },
  {
   "cell_type": "markdown",
   "id": "58f94507",
   "metadata": {},
   "source": [
    "- Create a list that contains a number of the words in spam messages and their count of occurence in  the dataset."
   ]
  },
  {
   "cell_type": "code",
   "execution_count": 7,
   "id": "743a40b6",
   "metadata": {},
   "outputs": [],
   "source": [
    "# Spam Dataset\n",
    "dataset_spam = dataset[dataset['Type'] == \"spam\"]\n",
    "dataset_spam_count = dataset_spam['Message'].str.split().str.len()\n",
    "dataset_spam_count.index = dataset_spam_count.index.astype(str) + ' words:'\n",
    "dataset_spam_count.sort_index(inplace=True)"
   ]
  },
  {
   "cell_type": "markdown",
   "id": "6e818c5b",
   "metadata": {},
   "source": [
    "- Plots the histogram using the spam and ham message list that you just created."
   ]
  },
  {
   "cell_type": "code",
   "execution_count": 8,
   "id": "4a83d5b0",
   "metadata": {},
   "outputs": [
    {
     "data": {
      "image/png": "[encoded data removed]",
      "text/plain": [
       "<Figure size 576x720 with 1 Axes>"
      ]
     },
     "metadata": {
      "needs_background": "light"
     },
     "output_type": "display_data"
    }
   ],
   "source": [
    "bins = np.linspace(0, 50, 10)\n",
    "plt.hist([dataset_ham_count, dataset_spam_count], bins, label=['ham', 'spam'])\n",
    "plt.legend(loc='upper right')\n",
    "plt.show()"
   ]
  },
  {
   "cell_type": "raw",
   "id": "2080c19d",
   "metadata": {},
   "source": [
    "The output result shows that most of the ham messages contain 0 to 10 words while the majority of the spam messages are longer and contain between 20 to 30 words."
   ]
  },
  {
   "cell_type": "markdown",
   "id": "e0a1240a",
   "metadata": {},
   "source": [
    "# Data Preprocessing"
   ]
  },
  {
   "cell_type": "raw",
   "id": "275ec8e7",
   "metadata": {},
   "source": [
    "Text data may contain special characters and digits. Most of the time these characters do not really play any role in classification. Depending upon the domain knowledge, sometimes it is good to clean text data by removing special characters and digits."
   ]
  },
  {
   "cell_type": "code",
   "execution_count": 9,
   "id": "63605ef9",
   "metadata": {},
   "outputs": [],
   "source": [
    "# The function that removes everything except alphabet\n",
    "def text_preprocess(sen):\n",
    "    sen = re.sub('[^a-zA-Z]','',sen)\n",
    "    sen = re.sub(r\"\\s+[a-zA-Z]\\s+\",'',sen)\n",
    "    sen = re.sub(r'\\s+','', sen)\n",
    "    return sen"
   ]
  },
  {
   "cell_type": "markdown",
   "id": "1668557a",
   "metadata": {},
   "source": [
    "Divide the data into features and labels i.e messages and their types"
   ]
  },
  {
   "cell_type": "code",
   "execution_count": 10,
   "id": "9141abb5",
   "metadata": {},
   "outputs": [],
   "source": [
    "X = dataset['Message']\n",
    "y = dataset['Type']"
   ]
  },
  {
   "cell_type": "markdown",
   "id": "679d87c4",
   "metadata": {},
   "source": [
    "Clean all the messages, execute a foreach loop that passes each message one by one to the text_process() function which clean the text."
   ]
  },
  {
   "cell_type": "code",
   "execution_count": 11,
   "id": "852a1f0c",
   "metadata": {},
   "outputs": [],
   "source": [
    "X_messages =[]\n",
    "messages = list(X)\n",
    "for mes in messages:\n",
    "    X_messages.append(text_preprocess(mes))"
   ]
  },
  {
   "cell_type": "code",
   "execution_count": 12,
   "id": "aedb486a",
   "metadata": {},
   "outputs": [
    {
     "data": {
      "text/plain": [
       "['GountiljurongpointcrazyAvailableonlyinbugisngreatworldlaebuffetCinetheregotamorewat',\n",
       " 'OklarJokingwifuoni',\n",
       " 'FreeentryinawklycomptowinFACupfinaltktsstMayTextFAtotoreceiveentryquestionstdtxtrateTCsapplyovers',\n",
       " 'UdunsaysoearlyhorUcalreadythensay',\n",
       " 'NahIdontthinkhegoestousfhelivesaroundherethough',\n",
       " 'FreeMsgHeytheredarlingitsbeenweeksnowandnowordbackIdlikesomefunyouupforitstillTbokXxXstdchgstosendtorcv',\n",
       " 'EvenmybrotherisnotliketospeakwithmeTheytreatmelikeaidspatent',\n",
       " 'AsperyourrequestMelleMelleOruMinnaminunginteNurunguVettamhasbeensetasyourcallertuneforallCallersPresstocopyyourfriendsCallertune',\n",
       " 'WINNERAsavaluednetworkcustomeryouhavebeenselectedtoreceiveaprizerewardToclaimcallClaimcodeKLValidhoursonly',\n",
       " 'HadyourmobilemonthsormoreURentitledtoUpdatetothelatestcolourmobileswithcameraforFreeCallTheMobileUpdateCoFREEon',\n",
       " 'ImgonnabehomesoonandidontwanttotalkaboutthisstuffanymoretonightkIvecriedenoughtoday',\n",
       " 'SIXchancestowinCASHFromtopoundstxtCSHandsendtoCostpdaydaysTsandCsapplyReplyHLinfo',\n",
       " 'URGENTYouhavewonaweekFREEmembershipinourPrizeJackpotTxtthewordCLAIMtoNoTCwwwdbuknetLCCLTDPOBOXLDNWARW',\n",
       " 'Finallythematchheadingtowardsdrawasyourprediction',\n",
       " 'TiredIhaventsleptwellthepastfewnights',\n",
       " 'Easyahsengotselectedmeansitsgood',\n",
       " 'Ihavetotakeexamwithmarch',\n",
       " 'YeahyoushouldIthinkyoucanuseyourgtatmnowtoregisterNotsurebutiftheresanywayicanhelpletmeknowButwhenyoudobesureyouareready',\n",
       " 'OknoprobTakeurtime',\n",
       " 'Thereisoscalledubanduwhichwillrunwithoutinstallinginharddiskyoucanusethatostocopytheimportantfilesinsystemandgiveittorepairshop',\n",
       " 'SorryIllcalllater',\n",
       " 'UsaylehOfcoursenothinghappenlarNotsayvromanticjusabitonlylorIthkenitescenerynotsoniceleh',\n",
       " 'NewMobilesfromMUSTGOTxtNOKIAtoNocollectyourstodayFromONLYwwwtcbizoptoutgbpmtmsg',\n",
       " 'WouldreallyappreciateifyoucallmeJustneedsomeonetotalkto',\n",
       " 'WillumeeturdreampartnersoonIsurcareeroffaflyngstartfindoutfreetxtHOROfollowedbyurstarsignegHOROARIES',\n",
       " 'Heycompanyelamapomudyadhu',\n",
       " 'LifeismorestrictthanteacherBcozTeacherteacheslessonampthenconductsexamButLifefirstconductsExamampthenteachesLessonsHappymorning',\n",
       " 'Deargoodmorningnowonlyiamup',\n",
       " 'GetdowningandhipuramandwalktocrosscutroadRightsideltgtstreetroadandturnatfirstright',\n",
       " 'Dearwearegoingtoourrubberplace',\n",
       " 'SorrybatterydiedyeahImhere',\n",
       " 'Yesheretvisalwaysavailableinworkplace',\n",
       " 'TextmeetsomeonesexytodayUcanfindadateorevenflirtitsuptoUJoinjustpREPLYwithNAMEAGEegSammsgrecdthirtyeightpence',\n",
       " 'IhaveprinteditohSoltgtcomeupstairs',\n",
       " 'Orillbealittlecloserlikeatthebusstoponthesamestreet',\n",
       " 'Whereareyouwhenwilyoureachhere',\n",
       " 'NewTheoryArgumentwinsdSITUATIONbutlosesthePERSONSodontarguewithurfriendsjustkickthemampsayImalwayscorrect',\n",
       " 'IlovetogivemassagesIuselotsofbabyoilWhatisyourfaveposition',\n",
       " 'Dudeweshouldgosupagain',\n",
       " 'YoyyooouknowhowtochangepermissionsforadriveinmacMyusbflashdrive',\n",
       " 'Gibbsunsoldmikehussey',\n",
       " 'IliketotalkpabutamnotabletoIdontknowy',\n",
       " 'YduncuttooshortlehUdunlikeahShefailedShesquitesad',\n",
       " 'Youunbelievablefaglord',\n",
       " 'Wifehowsheknewthetimeofmurderexactly',\n",
       " 'Whydoyouaskprincess',\n",
       " 'IamgreatprincessWhatareyouthinkingaboutme',\n",
       " 'NutterCutterCtterCtterggCttarggCtarggCtaggieyou',\n",
       " 'ItsokinoeurebusybutimreallytooboredsoimsguIosodunnowatcolourshechoosemeone',\n",
       " 'Doesntghaveclassearlytomorrowandthusshouldntbetryingtosmokeatltgt',\n",
       " 'SuperbThoughtBegratefulthatudonthaveeverythinguwantThatmeansustillhaveanopportunitytobehappiertomorrowthanuaretoday',\n",
       " 'HopeyouarehavingagoodweekJustcheckingin',\n",
       " 'ImusedtoitIjusthopemyagentsdontdropmesinceiveonlybookedafewthingsthisyearThiswholemeinbostontheminnycwasanexperiment',\n",
       " 'ThursdaynightYeahsurethingwellworkitoutthen',\n",
       " 'YourfreeringtoneiswaitingtobecollectedSimplytextthepasswordMIXtotoverifyGetUsherandBritneyFMLPOBoxMKHPpw',\n",
       " 'ProbablymoneyworriesThingsarecomingdueandihaveseveraloutstandinginvoicesforworkididtwoandthreemonthsago',\n",
       " 'HowisitpossibletoteachyouAndwhere',\n",
       " 'IwonderifyourphonebatterywentdeadIhadtotellyouIloveyoubabe',\n",
       " 'Lovelysmellonthisbusanditainttobacco',\n",
       " 'Wereallgettingworriedoverherederekandtaylorhavealreadyassumedtheworst',\n",
       " 'Heywhatsupcharlessorryaboutthelatereply',\n",
       " 'allthelastestfromStereophonicsMarleyDizzeeRacalLibertinesandTheStrokesWinNookiigameswithFlirtClickTheMobWAPBookmarkortextWAPto',\n",
       " 'IllgiveheronceihaveitPlusshesaidgrinulegreetyouwheneverwespeak',\n",
       " 'WHITEFUDGEOREOSAREINSTORES',\n",
       " 'JanuaryMaleSaleHotGaychatnowcheapercallNationalratefrompmincheaptopminpeakTostoptextscallpmin',\n",
       " 'MyloveHowcomeittookyousolongtoleaveforZahersIgotyourwordsonymandwashappytoseethembutwassadyouhadleftImissyou',\n",
       " 'Iamsorryithurtyou',\n",
       " 'CantIfeelnauseousImsopissedIdidnteatanysweetsallweekcausetodayIwasplanningtopigoutIwasdietingallweekAndnowImnothungry',\n",
       " 'OklorbutnottooearlyMestillhavingprojectmeetingnow',\n",
       " 'Callmedaiamwaitingforyourcall',\n",
       " 'Icouldaskcarlosifwecouldgetmoreifanybodyelsecanchipin',\n",
       " 'WasactuallyabouttosendyouaremindertodayHaveawonderfulweekend',\n",
       " 'WhenpeopleseemymsgsTheythinkIamaddictedtomsgingTheyarewrongBcozTheydontknowthatIamaddictedtomysweetFriendsBSLVYL',\n",
       " 'HeyyougavethemyourphotowhenyouregisteredfordrivingahTmrwannameetatyck',\n",
       " 'Donttalktohimeverokitsmyword',\n",
       " 'Whenuwanaseeitthen',\n",
       " 'OnmawaytoschoolCanyouplssendmeashleysnumber',\n",
       " 'ItshallbefineIhaveavalarrnowWillhollalater',\n",
       " 'Shewenttoattendanothertworoundstodaybutstilldidtreachhome',\n",
       " 'Actuallyideletedmyoldwebsitenowimbloggingatmagicalsongsblogspotcom',\n",
       " 'Kwaitchikkuilsendaftrltgtmins',\n",
       " 'ButImonadietAndIatetoomanyslicesofpizzayesterdayUghImALWAYSonadiet',\n",
       " 'Kiwillgivemykvbaccdetails',\n",
       " 'Ohallhavetocomeah',\n",
       " 'moneyyouraluckywinnerclaimyourprizetextmoneyovermilliontogiveawaypptxnormaltextrateboxwtjy',\n",
       " 'Imreallysorryiwontbabledothisfridayhopeucanfindanalternativehopeyrtermsgoingok',\n",
       " 'CongratulationsoremooworewaEnjoyitandiwishyoumanyhappymomentstoandfrowhereveryougo',\n",
       " 'Sodoyouhavesamusshouldersyet',\n",
       " 'WhattimeyouthinkyoullhaveitNeedtoknowwhenIshouldbenearcampus',\n",
       " 'DearMatthewpleasecallfromalandlineyourcomplimentaryLuxTenerifeholidayorCASHawaitcollectionppmSAETCsBoxSKXH',\n",
       " 'Thendunwearjeanslor',\n",
       " 'Sincewhenwhichsideanyfeveranyvomitin',\n",
       " 'Kkareyouincollege',\n",
       " 'UrgentcallfromLandlineYourcomplimentaryTenerifeHolidayorcashawaitcollectionSAETCsBOXHPYFppm',\n",
       " 'BetterMadeupforFridayandstuffedmyselflikeapigyesterdayNowIfeelblehButatleastitsnotwrithingpainkindofbleh',\n",
       " 'NowesellitallsowellhavetonsifcoinsThensellourcoinstosomeonethrupaypalVoilaMoneybackinlifepockets',\n",
       " 'TheyredoingittolotsofplacesOnlyhospitalsandmedicalplacesaresafe',\n",
       " 'HowaboutgettingintouchwithfolkswaitingforcompanyJusttxtbackyourNAMEandAGEtooptinEnjoythecommunitypSMS',\n",
       " 'AndalsoIvesortablownhimoffacoupletimesrecentlysoidrathernottexthimoutofthebluelookingforweed',\n",
       " 'IsentmyscorestosophasandihadtodosecondaryapplicationforafewschoolsIthinkifyouarethinkingofapplyingdoaresearchoncostalsoContactjokeogunrindeherschoolisonemethelessexpensiveones',\n",
       " 'IcantwaittoseeyouHowwerethephotoswereuseful',\n",
       " 'UrcashbalanceiscurrentlypoundstomaximizeurcashinnowsendGOtoonlypmsgCCPOBOXTCRW',\n",
       " 'HeyibookedthekbonsatalreadywhatotherlessonsarewegoingforahKeepyoursatnightfreeweneedtomeetandconfirmourlodging',\n",
       " 'Chkinurbelovdmsdict',\n",
       " 'Isthatwhattimeyouwantmetocome',\n",
       " 'Awesomelemmeknowwheneveryourearound',\n",
       " 'ShbboklorThanx',\n",
       " 'BeautifulTruthagainstGravityReadcarefullyOurheartfeelslightwhensomeoneisinitButitfeelsveryheavywhensomeoneleavesitGOODNIGHT',\n",
       " 'Alsoremembertogetdobbysbowlfromyourcar',\n",
       " 'FilthystoriesandGIRLSwaitingforyour',\n",
       " 'SorryinowthencurmsgYarlorsopoorthingButonlyonenightTmrullhaveabrandnewroomsleepin',\n",
       " 'LoveisntadecisionitsafeelingIfwecoulddecidewhotolovethenlifewouldbemuchsimplerbutthenlessmagical',\n",
       " 'Welpapparentlyheretired',\n",
       " 'MysortcodeisandaccnoisThebankisnatwestCanyoureplytoconfirmivesentthistotherightperson',\n",
       " 'Where',\n",
       " 'Usureucanttakeanysicktime',\n",
       " 'URGENTWearetryingtocontactUTodaysdrawshowsthatyouhavewonaprizeGUARANTEEDCallfromlandlineClaimMValidhrsonly',\n",
       " 'WatchingcartoonlisteningmusicampatevehadtogotempleampchurchWhataboutu',\n",
       " 'YochadwhichgymnasticsclassdoyouwannatakeThesitesaysChristiansclassisfull',\n",
       " 'Areyouthismuchbuzy',\n",
       " 'Orbetterstillcanyoucatchherandletaskherifshecansellltgtforme',\n",
       " 'IamnotsureaboutnightmenuIknowonlyaboutnoonmenu',\n",
       " 'WhatdouwantwhenicomebackabeautifulnecklaceasatokenofmyheartforyouthatswhatiwillgivebutONLYtoMYWIFEOFMYLIKINGBETHATANDSEENOONEcangiveyouthatdontcallmeiwillwaittillicome',\n",
       " 'Areyouwillingtogoforaptitudeclass',\n",
       " 'Itwontbuntilastryingsorthouseoutisthatok',\n",
       " 'YarlorhewangochorseracingtodaymahsoeatearlierlorIatechickenriceU',\n",
       " 'Hahaawesomeomwbacknowthen',\n",
       " 'Yupithksountileshopcloseslor',\n",
       " 'whatisyouraccountnumber',\n",
       " 'Ehusendwronglylar',\n",
       " 'HeynoIadacrapnitewasborinwithoutyaboggywithmeuboringbiatchThanxbutuwaittilnxttimeilaveya',\n",
       " 'Okishalltalktohim',\n",
       " 'DonthesitateYouknowthisisthesecondtimeshehashadweaknesslikethatSokeepinotebookofwhatsheeatanddidthedaybeforeorifanythingchangedthedaybeforesothatwecanbesureitsnothing',\n",
       " 'HeyyoucanpayWithsalarydeOnlyltgt',\n",
       " 'AnothermonthIneedchocolateweedandalcohol',\n",
       " 'Ifhestartedsearchinghewillgetjobinfewdayshehavegreatpotentialandtalent',\n",
       " 'Reckonneedtobeintownbyeightishtowalkfromcarpark',\n",
       " 'CongratsmobileGVideophonesRyourscallnowvideochatwidyourmatesplayjavagamesDloadpolyPHmusicnolinerentl',\n",
       " 'LOOKATTHEFUCKINTIMEWHATTHEFUCKYOUTHINKISUP',\n",
       " 'YoguesswhatIjustdropped',\n",
       " 'Carlossayshellbeatmuinltgtminutes',\n",
       " 'IminofficenowIwillcallyoultgtmin',\n",
       " 'GeeeeImissyoualreadyyouknowYourallIcanthinkaboutFuckIcantwaittillnextyearwhenwewillbetogetherlovingkiss',\n",
       " 'YunahtheubionesayifwancallbytomorrowcalllookforireneereonlygotbusUbicresubitechparkphforstwkgdaysn',\n",
       " 'UghGottadrivebacktosdfromlaMybuttissore',\n",
       " 'Iwillonceigethome',\n",
       " 'WaaaatLololooknexttimethen',\n",
       " 'ThetablesoccupiedImwaitingbythetree',\n",
       " 'Isurelydontforgottocomeiwillalwaysbeintouchinwithyou',\n",
       " 'HikindlygiveusbackourdocumentswhichwesubmittedforloanfromSTAPATI',\n",
       " 'Idonthaveishallbuyonedear',\n",
       " 'Ohgodiamhappytoseeyourmessageafterdays',\n",
       " 'WhatyearAndhowmanymiles',\n",
       " 'HeycutieHowgoesitHereinWALESitskindaokThereislikehillsandshitbutistillaventkilledmyself',\n",
       " 'SadstoryofaManLastweekwasmybdayMyWifedidntwishmeMyParentsforgotnsodidmyKidsIwenttoworkEvenmyColleaguesdidnotwishAsIenteredmycabinmyPAsaidHappyBdayBossIfeltspecialSheaskdmelunchAfterlunchsheinvitedmetoherapartmentWewentthereShesaiddoumindifIgointothebedroomforaminuteOKIsedinasexymoodShecameoutminutslatrwidacakenMyWifeMyParentsMyKidzMyFriendsnMyColleaguesAllscreamingSURPRISEandIwaswaitingonthesofaNAKED',\n",
       " 'IthinkyoushouldgothehonestyroadCallthebanktomorrowItsthetoughdecisionsthatmakeusgreatpeople',\n",
       " 'FREEforstweekNoNokiatoneurmobeveryweekjusttxtNOKIAtoGettxtingandtellurmateszedPOBoxWWQnormptone',\n",
       " 'NoItsnotspecialisationCanworkbutitsslavelaborWilllookforitthismonthshacosnoshakarabeggar',\n",
       " 'IsshereplyingHasboyechangedhisphonenumber',\n",
       " 'GotowritemsgPutonDictionarymodeCoverthescreenwithhandPressltgtGentlyremoveUrhandItsinteresting',\n",
       " 'himydarlinimonmywaytoLondonandwehavejustbeensmashedintobyanotherdriverandhaveabigdentimreallymissinguwhathaveubeenuptoxxx',\n",
       " 'Nothingreallyjustmakingsureeverybodysuptospeed',\n",
       " 'Imnotcominghomedinner',\n",
       " 'ThankyouAndbythewayIjustlost',\n",
       " 'Yeshehavegoodcrickitingmind',\n",
       " 'ThxAllwillbewellinafewmonths',\n",
       " 'ShoptilluDropISITYOUeitherKKCashorTravelvoucherCallnowNTTPOBoxCRBTfixedlineCostppmmobilevary',\n",
       " 'CANIPLEASECOMEUPNOWIMINTOWNDONTMATTERIFURGOINOUTLRJUSTREALLYNEEDDOCDPLEASEDONTPLEASEDONTIGNOREMYCALLSUNOTHECDISVIMPORTANTTOMEMORO',\n",
       " 'IwontSowatswittheguys',\n",
       " 'Yavnttriedyetandneverplayedoriginaleither',\n",
       " 'HiyahadagooddayHaveyouspokentosincetheweekend',\n",
       " 'SeeIthoughtitallthrough',\n",
       " 'ImatworkPleasecall',\n",
       " 'getreadytomoanandscream',\n",
       " 'Ohkwhyyougotjobthenwhatsup',\n",
       " 'IdontthinksoYoudontneedtobegoingoutthatlateonaschoolnightESPECIALLYwhentheoneclassyouhaveistheoneyoumissedlastwednesdayandprobablyfailedatestinonfriday',\n",
       " 'Andpoppingltgtibuprofenswasnohelp',\n",
       " 'BabeHowgoesthatdayWhatareyoudoingWhereareyouIsipmycappuccinoandthinkofyoumyloveIsendakisstoyoufromacrossthesea',\n",
       " 'Ok',\n",
       " 'PSUnouragrownupnowright',\n",
       " 'ChinatowngotporridgeclaypotriceyamcakefishheadbeehoonEitherweeatcheapdengocafentokorgonydcorsomethin',\n",
       " 'IknowafewpeopleIcanhitupandfucktotheyes',\n",
       " 'PurityoffriendshipbetweentwoisnotaboutsmilingafterreadingtheforwardedmessageItsaboutsmilingjustbyseeingthenameGudevng',\n",
       " 'SoisthereanythingspecificIshouldbedoingwithregardstojaklinorwhatbecauseidkwhatthefuck',\n",
       " 'OhgodImgonnaGooglenearbycliffsnow',\n",
       " 'FREEcameraphoneswithlinerentalfrommonthwithcrossntwkminspricetxtbundledealsalsoavbleCallorcalloptoutJMF',\n",
       " 'Yupishdhafardpagesifiaddfiguresallgothowmanypages',\n",
       " 'Oohgotimgonnastartbellydancinginmoseleywedsifuwantjoinmetheyhaveacafetoo',\n",
       " 'ThankyousomuchforthecallIappreciateyourcare',\n",
       " 'CongratsTreatpendingiamnotonmailfordayswillmailoncethruRespectmotherathomecheckmails',\n",
       " 'IcalledbutnoonepickupephoneIaskbothofthemalreadytheysaidok',\n",
       " 'Himyemailaddresshaschangednowitis',\n",
       " 'ValuableAffectionateLoveableEternalNobleTruthfulIntimateNaturalEnamousHappyVALENTINESDAYinadvance',\n",
       " 'NotmuchjustsometextinHowboutyou',\n",
       " 'Bringitifyougotit',\n",
       " 'IminamovieCallmewat',\n",
       " 'NotsureIhavethestomachforit',\n",
       " 'HahacanButimhavingdinnerwithmycousin',\n",
       " 'AboywaslatehomeHisfatherPOWEROFFRNDSHIP',\n",
       " 'Andmymancarlosisdefinitelycomingbymutonightnoexcuses',\n",
       " 'soonyouwillhavetherealthingprincessDoimakeyouwet',\n",
       " 'RajiplsdomeafavourPlsconveymyBirthdaywishestoNimyaPlsTodayisherbirthday',\n",
       " 'HahamylegsandneckarekillingmeandmyamigosarehopingtoendthenightwithaburnthinkIcouldswingbyinlikeanhour',\n",
       " 'URGENTYourmobileNoxxxxxxxxxwonabonuscallerprizeonthisisthendattempttoreachYOUcallASAPBOXNQPPPM',\n",
       " 'UsuallythebodytakescareofitbuymakingsureitdoesntprogressCanweplscontinuethistalkonsaturday',\n",
       " 'URGENTYourCostaDelSolHolidayorawaitcollectionCallNowtoClaimSAETCsPOBoxStockportSKxhCostpmMaxmins',\n",
       " 'Hmmwellnightnight',\n",
       " 'Justwantedtosayholyshityouguyswerentkiddingaboutthisbud',\n",
       " 'JustgettinabitartywithmycollagesatthemowelltryinnewayGotaroastinaminlovelyishallenjoythat',\n",
       " 'Thisisoneofthedaysyouhaveabillionclassesright',\n",
       " 'GoodmorningtodayiamlateforhrsBecauseofbackpain',\n",
       " 'Okthenilllethimnoelaternaskhimcallutmr',\n",
       " 'Prabhaimsorydarealyfrmheartimsory',\n",
       " 'OKimwalikingardnowDouwanmebuyanythinggourhouse',\n",
       " 'Willhavetwomorecartonsoffuandisverypleasedwithshelves',\n",
       " 'Nicetalkingtoyoupleasedontforgetmypixiwanttoseeallofyou',\n",
       " 'YouhaveWONaguaranteedcashoraprizeToclaimyrprizecallourcustomerservicerepresentativeonbetweenampmCostp',\n",
       " 'ButreallyquitefunnylorwatThenushdhafrunshorterdistancewat',\n",
       " 'Inoticeyoulikelookingintheshitmirroryoureturningintoarightfreak',\n",
       " 'GreatIwasgettingworriedaboutyouJustknowthatawonderfulandcaringpersonlikeyouwillhaveonlythebestinlifeKnowthaturwonderfulandGodsloveisyours',\n",
       " 'ThanksforyourringtoneorderrefnumberKYourmobilewillbechargedShouldyourtonenotarrivepleasecallcustomerserviceson',\n",
       " 'IprefermyfreedaysTueswedfriosocanaskthoseworkinlor',\n",
       " 'AlritejodhowstherevisiongoinKerisbindoinasmidginNewayuwannacumoveraftercollegexx',\n",
       " 'IfyouhavebelivemeCometomyhome',\n",
       " 'Ohkkwheredidyoutaketest',\n",
       " 'Thoseweremyexactintentions',\n",
       " 'hahabutnomoneylehLatergottogofortuitionHahaandlookingforemptyslotsfordrivinglessons',\n",
       " 'HeyThkwejuzgoaccordintowatwediscussedyestlorexceptnokbonsunCostheresntmuchlessontogoifweattendkbonsat',\n",
       " 'KwenurfreecometomyhomeandalsotelvikkyihavsentmailtohimalsoBettercomeeveningilbefreetodayaftrpm',\n",
       " 'Nothingjustgettingmsgsbydisnamewitdifferentnos',\n",
       " 'GoodMorningplzcallmesir',\n",
       " 'WhatsyourroomnumberagainWannamakesureImknockingontherightdoor',\n",
       " 'Sicomonolistenedtheplaidalbumquitegdthenewairwhichishilariousalsoboughtbraindanceacompofstuffonaphexsabeluhavhearitcusnxxxx',\n",
       " 'PlstellnelsonthatthebbsarenolongercominThemoneyiwasexpectingaintcoming',\n",
       " 'GivehersomethingtodrinkifshetakesitanddoesntvomitthenyouhertempmightdropIfsheunmitshoweverletmeknow',\n",
       " 'ThinkyousentthetexttothehomephoneThatcantdisplaytextsIfyoustillwanttosendithisnumberis',\n",
       " 'Everydayiusetosleepafterltgtsoonly',\n",
       " 'KIllcallyouwhenImclose',\n",
       " 'Ubuynewspapersalready',\n",
       " 'NopewifmysislorAftbathingmydogthenicanbatheLookslikeitsgoingrainsoon',\n",
       " 'BooImonmywaytomymomsShesmakingtortillasoupYummmm',\n",
       " 'Nomanagementpuzzeles',\n",
       " 'Howdidyoufindoutinawaythatdidntincludeallofthesedetails',\n",
       " 'HiyababexugotenboutmescammersgettingsmartThoughthisisaregularvodafonenoifyourespondyougetfurtherpremratemsgsubscriptionOthernosusedalsoBeware',\n",
       " 'BackworkmorrohalftermoverCanUCmenitesomesexypassionBIhavegobackChatNOWLuvDENACallsminMobsmoreLKPOBOXHPFL',\n",
       " 'willyouliketobespoiled',\n",
       " 'ThanksforyourringtoneorderrefnumberRYourmobilewillbechargedShouldyourtonenotarrivepleasecallcustomerserviceson',\n",
       " 'IamgettingthreatsfromyoursalesexecutiveShifadasiraisedcomplaintagainsthimItsanofficialmessage',\n",
       " 'hopethingswentwellatdoctorsremindsmeistillneedgodiducdlittlethingileftinthelounge',\n",
       " 'Denwatwillescheduleblkonsun',\n",
       " 'Lolenjoyroleplayingmuch',\n",
       " 'OkMewatchingtvtoo',\n",
       " 'IjustlovthislineHurtmewiththetruthIdontmindiwiltoleratbcsurmysomeoneButNevercomfortmewithaliegudniandsweetdreams',\n",
       " 'Justcheckedoutheadingouttodropoffmystuffnow',\n",
       " 'Heregotlotsofhairdresserfrchina',\n",
       " 'SadstoryofaManLastweekwasmybdayMyWifedidntwishmeMyParentsforgotnsodidmyKidsIwenttoworkEvenmyColleaguesdidnotwish',\n",
       " 'Illcallyoueveningillsomeideas',\n",
       " 'SplashMobileChoosefromsofgrtoneseachwkThisisasubscritionservicewithweeklytonescostingpUhaveonecreditkickbackandENJOY',\n",
       " 'Didyoushowhimandwotdidhesayorcouldunotchimdust',\n",
       " 'Itshouldtakeaboutltgtmin',\n",
       " 'NotheardfromUawhileCallrudechatprivatelinetocumWanCpicsofmegettinshaggedthentextPIXtoEndsendSTOPSAMxxx',\n",
       " 'OknowiaminbusIficomesooniwillcomeotherwisetomorrow',\n",
       " 'IcantpickthephonerightnowPlssendamessage',\n",
       " 'ForwardedfromFREEentryintoourweeklycompjustsendthewordENTERtoNOWTCwwwtextcompcom',\n",
       " 'FinishliaoU',\n",
       " 'FROMLOSTPOUNDHELP',\n",
       " 'Hahaithinkididtoo',\n",
       " 'Uknowwewatchinatlido',\n",
       " 'Lifespendwithsomeoneforalifetimemaybemeaninglessbutafewmomentsspentwithsomeonewhoreallyloveyoumeansmorethanlifeitself',\n",
       " 'HahaawesomeIvebeentouacoupletimesWhoallscoming',\n",
       " 'ColdDontbesaddear',\n",
       " 'ThinkIcouldstopbyinlikeanhourorsoMyroommateslookingtostockupforatrip',\n",
       " 'IsthatonthetellyNoitsBrdgetJones',\n",
       " 'Loveyouaathiloveulot',\n",
       " 'HelloHowruImboredIneverthoughtidgetboredwiththetvbutIamTellmesomethingexcitinghashappenedthereAnything',\n",
       " 'HmmBadnewsHypeparkplazastudiotakenOnlyleftbedrm',\n",
       " 'SorryIllcalllaterinmeeting',\n",
       " 'Rcominbackfordinner',\n",
       " 'IhavalmostreachedCallimunabletoconnectu',\n",
       " 'Whomyouwaitedforyesterday',\n",
       " 'Ireachhomesafensoundliao',\n",
       " 'Vellygoodyesplease',\n",
       " 'HiwkendokbutjourneyterribleWknotgoodashavehugebacklogofmarkingtodo',\n",
       " 'IhavehadtwomorelettersfromIwillcopythemforyoucosonehasamessageforyouSpeaksoon',\n",
       " 'AlexknowsaguywhosellsmidsbuthesdowninsouthtampaandIdontthinkIcouldsetitupbeforelike',\n",
       " 'Dontyouhavemessageoffer',\n",
       " 'HadyourmobilemthsUpdateforFREEtoOrangeslatestcolourcameramobilesunlimitedweekendcallsCallMobileUpdonfreefoneorStopTx',\n",
       " 'HEYTHEREBABEHOWUDOINWOTUUPNITELOVEANNIEX',\n",
       " 'RemindmehowtogetthereandIshalldoso',\n",
       " 'thatsnotvromantic',\n",
       " 'HelloDamnthischristmasthingIthinkihavedecidedtokeepthismpthatdoesntwork',\n",
       " 'YouhavenewmessagePleasecall',\n",
       " 'HIDARLINIMMISSINUHOPEYOUAREHAVINGAGOODTIMEWHENAREUBACKANDWHATTIMEIFUCANGIVEMEACALLATHOMEJESSXX',\n",
       " 'ForwardedfromHithisisyourMailboxMessagingSMSalertYouhavemessagesYouhavematchesPleasecallbackontoretrieveyourmessagesandmatches',\n",
       " 'Drawvaidontthinkso',\n",
       " 'DontpickupdcallwhensomethingimportantisTheretotellHrishi',\n",
       " 'CongratsyearspecialcinemapassforisyourscallnowCSuprmanVMatrixStarWarsetcallFREEbxipwepmDontmissout',\n",
       " 'NothincomestomymindhelpmebuyhangerlorUrlaptopnotheavy',\n",
       " 'ltgtthatsallGuessthatseasyenough',\n",
       " 'Wecanmakeababyinyotho',\n",
       " 'ShouldItellmyfriendnottocomeroundtillikeltgtish',\n",
       " 'FriendshippoemDearODearURNotNearButICanHearDontGetFearLiveWithCheerNoMoreTearURAlwaysmyDearGudni',\n",
       " 'StillintheareaoftherestaurantIlltrytocomebacksoon',\n",
       " 'Aightthatllworkthanks',\n",
       " 'WINayearsupplyofCDsastoreofurchoiceworthenterourWeeklydrawtxtMUSICtoTsCswwwLdewcomsubswinppmx',\n",
       " 'MobyPubQuizWinaHighStreetprizeifuknowwhothenewDuchessofCornwallwillbeTxtherfirstnametounsubSTOPSPArrow',\n",
       " 'IhavesleepingbagsblanketandpaperandphonedetailsAnythingelse',\n",
       " 'YouhavewonaNokiaiThisiswhatyougetwhenyouwinourFREEauctionTotakepartsendNokiatonowHGSuiteLandsRowWJHL',\n",
       " 'CongratulationsThankstoagoodfriendUhaveWONtheXmasprizeclaimiseasyjustcallNOWOnlypperminuteBTnationalrate',\n",
       " 'tddnewsletteremccoukMoregamesfromTheDailyDrawDearHelenDozensofFreeGameswithgreatprizesWith',\n",
       " 'Sowhatdoyouguysdo',\n",
       " 'Alsothatchatwasawesomebutdontmakeitregularunlessyoucanseeherinperson',\n",
       " 'Thatssignificantbutdontworry',\n",
       " 'ThatscauseyouroldIlivetobehigh',\n",
       " 'WaqtsepehleornaseebsezyadakisikokuchnahimiltaZindgiwonahihejohumsochtehaiZindgiwohaijohamjeeteyhai',\n",
       " 'Onthewaytoofficeda',\n",
       " 'Inwhichplacedoyouwantda',\n",
       " 'Thispaincouldnthavecomeataworsetime',\n",
       " 'Ok',\n",
       " 'ShouldIbestalkingu',\n",
       " 'SorrydudeDontknowhowiforgotEvenafterDanremindedmeSorryHopeyouguyshadfun',\n",
       " 'Oklor',\n",
       " 'Appsclassvarayaelaya',\n",
       " 'TheXmasstoryispeaceTheXmasmsgisloveTheXmasmiracleisjesusHavablessedmonthaheadampwishUMerryXmas',\n",
       " 'URGENTYourmobilenumberWONaBonusCallerprizeonThisisthendattempttoreachyouCallASAPBoxNQPppm',\n",
       " 'ThatdayyouaskedaboutanandnumberWhy',\n",
       " 'AmsurfingonlinestoreForoffersdoyouwanttobuyanything',\n",
       " 'LongbeachlorExpectedUhavingdinnernow',\n",
       " 'Athomebytheway',\n",
       " 'WearebothfineThanks',\n",
       " 'Whathappentohertellthetruth',\n",
       " 'DoyoulikeItalianfood',\n",
       " 'WhichisweirdbecauseIknowIhaditatonepoint',\n",
       " 'AwwyoumustbenearlydeadWellJezisComingovertoDosomeworkAndthatwhillTakeforever',\n",
       " 'TellyourfriendswhatyouplantodoonValentinesdayltURLgt',\n",
       " 'Alrightseeyouinabit',\n",
       " 'CheersforthemessageZogtoriusIvebeenstaringatmyphoneforanagedecidingwhethertotextornot',\n",
       " 'Iwilltakecareoffinancialproblemiwillhelp',\n",
       " 'TelldearwhathappentoyouWhyyoutalkingtomelikeanalian',\n",
       " 'DoubleyourminstxtsonOrangeorpricelinerentalMotorolaandSonyEricssonwithBToothFREENokiaFREECallMobileUpdonoroptoutHVD',\n",
       " 'GotowritemsgPutonDictionarymodeCoverthescreenwithhandPressltgtGentlyremoveUrhandItsinteresting',\n",
       " 'Okie',\n",
       " 'Hithisisyijuecanimeetuattmr',\n",
       " 'Itsposibledntliveinltgtcenturycmfrwdnthnkdifferent',\n",
       " 'Butidintsleptinafternoon',\n",
       " 'Thatseemsunnecessarilyaffectionate',\n",
       " 'Yarelseillthkofallsortsoffunnythings',\n",
       " 'Youwillbeintheplaceofthatman',\n",
       " 'DownloadasmanyringtonesasulikenorestrictionsschooseUcanevensendyrbuddysTxtSirto',\n",
       " 'ThatscoolHowwasyourday',\n",
       " 'ThismessageisfreeWelcometothenewimprovedSexDoggingclubTounsubscribefromthisservicereplySTOPmsgsponly',\n",
       " 'HoneybeeSaidImdSweetestindWorldGodLaughedampSaidWaitUHavntMetdPersonReadingThisMsgMORALEvenGODCanCrackJokesGMGNGEGN',\n",
       " 'Justdowhateveriseasierforyou',\n",
       " 'RCTTHNQAdrianforUtextRgdsVatian',\n",
       " 'StopcallingeveryonesayingImighthavecancerMythroathurtstotalkIcantbeansweringeveryonescallsIfIgetonemorecallImnotbabysittingonMonday',\n",
       " 'ItllbetoughbutIlldowhatIhaveto',\n",
       " 'IMGONNAMISSUSOMUCHIWOULDSAYILSENDUAPOSTCARDBUTTHERESABOUTASMUCHCHANCEOFMEREMEMBERINASTHEREISOFSINOTBREAKINHISCONTRACTLUVYaxx',\n",
       " 'EemsgnapoortiyagiodalebekuHanumanjinameHanumanBajarangabaliMarutiPavanaputraSankatmochanRamaduthMahaveereenameltgtjanarigeivattekalisidarenextsaturdayolageondugoodnewskeluviriMaretareindedoddaproblumnallisiguviriidumatraltgttrueDontneglet',\n",
       " 'HIDARLINIFINISHATDOUPICKMEUPORMEETMETEXTBACKONTHISNUMBERLUVKATEXXX',\n",
       " 'SetaplaceformeinyourheartandnotinyourmindasthemindeasilyforgetsbuttheheartwillalwaysrememberWishyouHappyValentinesDay',\n",
       " 'Butimsurprisedshestillcanguessrightlor',\n",
       " 'OkiewanmeetatbishanCosmeatbishannowImnotdrivingtoday',\n",
       " 'OhhoIsthisthefirsttimeuusethesetypeofwords',\n",
       " 'HIDARLINHOWWASWORKDIDUGETINTOTROUBLEIJUSTTALKEDTOYOURMUMALLMORNINGIHADAREALLYGOODTIMELASTNIGHTIMGOINOUTSOONBUTCALLMEIFUCAN',\n",
       " 'IknowyouareservingImeanwhatareyoudoingnow',\n",
       " 'HuhHydeparknotinmelahoppsgotconfusedAnywayifttsebestchoicedenwejuzhavetotakeit',\n",
       " 'OhgeiThathappendtomeintronMaybeilldlitindwhenitsout',\n",
       " 'FREEMESSAGEActivateyourFREETextMessagesbyreplyingtothismessagewiththewordFREEFortermsconditionsvisitwwwcom',\n",
       " 'IknowgirlsalwayssafeandselfishknowigotitpaThankyougoodnight',\n",
       " 'Noworrieshopephotoshootwentwellhaveaspiffingfunatworkage',\n",
       " 'ImfreezingandcravingiceFml',\n",
       " 'KaySinceweareoutalready',\n",
       " 'EhsorrylehIdincurmsgNotsadalreadylarMewatchingtvnowUstillinoffice',\n",
       " 'Yoimrightbyyowork',\n",
       " 'OkdarlinisuposeitwasokijustworrytoomuchihavetodosomefilmstuffmymateandthenhavetobabysitagainButyoucancallmetherexx',\n",
       " 'ShesaiddoumindifIgointothebedroomforaminuteOKIsedinasexymoodShecameoutminutslatrwidacakenMyWife',\n",
       " 'IdonwakesinceIcheckedthatstuffandsawthatitstruenoavailablespacesPlscalltheembassyorsendamailtothem',\n",
       " 'NopeJuzofffromwork',\n",
       " 'HuhsofastDatmeansuhaventfinishedpainting',\n",
       " 'whatnumberdouliveatIsit',\n",
       " 'NoweputpartydaysaweekandstudylightlyIthinkweneedtodrawinsomecustomcheckboxessotheyknowwerehardcore',\n",
       " 'Sacwillscorebighundredheissetbatsman',\n",
       " 'Sendmeyettysnumberpls',\n",
       " 'HowmuchitwillcostapproxPermonth',\n",
       " 'OkThetheorytestwhenaregoingtobookIthinkitsonmayCozthoughtwannagooutwithjiayinButsheisntfree',\n",
       " 'YouarebeingcontactedbyourdatingservicebysomeoneyouknowTofindoutwhoitiscallfromalandlinePoBoxWTGP',\n",
       " 'Thatsfinehavehimgivemeacallifheknowswhathewantsorhasanyquestions',\n",
       " 'Sorrygotalatestartwereontheway',\n",
       " 'Thenugobackurselflor',\n",
       " 'IAMATTHEGASSTATIONGOTHERE',\n",
       " 'Kifuboredupjustcometomyhome',\n",
       " 'BabeILOVEYOUcoversyourfaceinkisses',\n",
       " 'LikeImadehimthrowupwhenweweresmokinginourfriendscaronetimeitwasawesome',\n",
       " 'Stillihavenotcheckeditda',\n",
       " 'YouwillgotowalmartIllstay',\n",
       " 'IhaventforgottenyouimighthaveacouplebuckstosendyoutomorrowkIloveyatoo',\n",
       " 'OhgreatIlldisturbhimmoresothatwecantalk',\n",
       " 'ReverseischeatingThatisnotmathematics',\n",
       " 'UrewelcomeCaughtuusingbrokenenglishagain',\n",
       " 'NoproblembabyIsthisisagoodtimetotalkIcalledandleftamessage',\n",
       " 'SorryIllcalllater',\n",
       " 'OhisitWhichbrand',\n",
       " 'SorryicanttakeyourcallrightnowItsohappensthatthererwaxstodowatyouwantShecancomeandillgethermedicalinsuranceAndshellbeabletodeliverandhavebasiccareImcurrentlyshoppingfortherightmedicalinsuranceforherSojustgivemetilfridaymorningThatswhenillseethemajorpersonthatcanguidemetotherightinsurance',\n",
       " 'Atwhattimeareyoucoming',\n",
       " 'Callhimandsayyounotcomingtodayokandtellthemnottofoolmelikethisok',\n",
       " 'IemailedyifengmypartorediCangetitfrhim',\n",
       " 'RusuretheyllunderstandthatWinegoodideajusthadaslurp',\n",
       " 'Minimumwalkismilesaday',\n",
       " 'OknotaproblemwillgetthemataxiCingtomorrowandtuesdayOntuesdaythinkwerallgoingtothecinema',\n",
       " 'BrainlessBabyDollDvehiclesariyagdrivemadokebarolla',\n",
       " 'IdontrunawayfrmuIwalkslowlyampitkillsmethatudontcareenoughtostopme',\n",
       " 'SorryImissedyourcallletstalkwhenyouhavethetimeImon',\n",
       " 'Pleaseattendthephone',\n",
       " 'YouonlyhatemeYoucancallanybutyoudidntacceptevenasinglecallofmineOrevenyoumessaged',\n",
       " 'NomessagesonherphoneImholdingitnow',\n",
       " 'CanImfree',\n",
       " 'GalnboywalkingindparkgalcaniholdurhandboyydouthinkiwouldrunawaygalnojstwanachowitfeelswalkinginheavenwithanprinceGN',\n",
       " 'Whatmakesyoumosthappy',\n",
       " 'Wishingyouawonderfulweek',\n",
       " 'Sweethearthowareyou',\n",
       " 'Sirwaitingforyourletter',\n",
       " 'DudeimnolongerapiscesImanaquariusnow',\n",
       " 'XcourseityrsJustsohermessagesonmessengerlikyoursendingme',\n",
       " 'Ithinksteynsurelygetonewicket',\n",
       " 'NeitherinstermvoiceimstudyingAllfinewithmeNotsurethethingwillberesolvedthoAnywayHaveafabhols',\n",
       " 'Garbagebagseggsjambreadhannafordwheatchex',\n",
       " 'NoItsnotprideImalmostltgtyearsoldandshouldntbetakinmoneyfrommykidYourenotsupposedtohavetodealwiththisstuffThisisgrownupstuffwhyidonttellyou',\n",
       " 'SoundsbetterthanmyeveningimjustdoingmycostumeImnotsurewhattimeifinishtomorrowbutiwilltxtyouattheend',\n",
       " 'Mybirthdayisonfebltgtda',\n",
       " 'Sowhendoyouwannagym',\n",
       " 'YoudlikethatwouldntyouJerk',\n",
       " 'AreuawakeIstheresnowthere',\n",
       " 'Andofcourseyoushouldmakeastink',\n",
       " 'ursubscribedTEXTCOMPwklycompstwksfreequestionfollowssubsequentwkschargedpmsgunsubscribetxtSTOPcustcare',\n",
       " 'NogoNoopeningsforthatroomtilafterthanksgivingwithoutanupcharge',\n",
       " 'Whenyouguysplanningoncomingover',\n",
       " 'Watdoingnow',\n",
       " 'MyParentsMyKidzMyFriendsnMyColleaguesAllscreamingSURPRISEandIwaswaitingonthesofaNAKED',\n",
       " 'NosirThatswhyihadanhrtriponthebuslastweekHaveanotherauditionnextwednesdaybutithinkimightdrivethistime',\n",
       " 'DoIIthoughtIputitbackinthebox',\n",
       " 'Imhome',\n",
       " 'NooneinterestedMaybesomebusinessplan',\n",
       " 'YupitsatparagonIhaventdecidedwhethercutyetHee',\n",
       " 'GoodmorningprincessHaveagreatday',\n",
       " 'GuaishdhafseenhimwhenhesnaughtysofreetodayCangojogging',\n",
       " 'AiyocosismsthennevareplysoiwaittoreplylarItothaventfinishurlabwat',\n",
       " 'LivingisverysimpleLovingisalsosimpleLaughingistoosimpleWinningistooosimpleButBeingSIMPLEisverydifficult',\n",
       " 'TellmesomethingThatsokay',\n",
       " 'Ok',\n",
       " 'HmmShallibringabottleofwinetokeepusamusedJustjokingIllstillbringabottleRedorwhiteSeeyoutomorrow',\n",
       " 'Thisisurfacetestltgtselectanynumberiwilltellurfaceastrologyamwaitingquickreply',\n",
       " 'HeyiourigavemeyournumberImwylieryansfriend',\n",
       " 'YepgetwiththeprogramYoureslacking',\n",
       " 'Imininsideofficestillfillingformsdonknowwhentheyleaveme',\n",
       " 'Ithinkyourmentorisbutnotpercentsure',\n",
       " 'CallandsendourgirlsintoeroticecstacyJustpminTostoptextscallnatrate',\n",
       " 'CameraYouareawardedaSiPixDigitalCameracallfrommlandlineDeliverywithindays',\n",
       " 'AXMASREWARDISWAITINGFORYOUOurcomputerhasrandomlypickedyoufromourloyalmobilecustomerstoreceivearewardJustcall',\n",
       " 'JusttryingtofigureoutwhenImsupposetoseeacoupledifferentpeoplethisweekWesaidwedgettogetherbutIdidntsetdates',\n",
       " 'IMPORTANTMESSAGEThisisafinalcontactattemptYouhaveimportantmessageswaitingoutourcustomerclaimsdeptExpiresCallNOW',\n",
       " 'Himomwemightbebacklaterthanltgt',\n",
       " 'datingihavehadtwooftheseOnlystartedafterisentatexttotalksportradiolastweekAnyconnectiondoyouthinkorcoincidence',\n",
       " 'Lolohyougotafriendforthedog',\n",
       " 'OkisanyproblemtoufrmhimWatsmatter',\n",
       " 'KIllheadoutinafewminsseeyouthere',\n",
       " 'DoukonwwahtisraelFRIENDSHIPImgvingyuoanexmpelJsutesetihsmsgEvreysplleingoftihsmsgiswrnogBtsitllyuocanraeditwihtuotaynmitsakeGOODNIGHTampHAVEANICESLEEPSWEETDREAMS',\n",
       " 'IcantpickthephonerightnowPlssendamessage',\n",
       " 'IdontwantyoutoleaveButimbarelydoingwhaticantostaysanefightingwithyouconstantlyisnthelping',\n",
       " 'ThecurrentleadingbidisTopausethisauctionsendOUTCustomerCare',\n",
       " 'FreeentrytothegrprizeswklycompachancetowinthelatestNokiaPSPorcasheverywkTXTGREATtohttpwwwgrprizescom',\n",
       " 'Somebodysetupawebsitewhereyoucanplayholdemusingeveonlinespacebucks',\n",
       " 'ItssunnyincaliforniaTheweathersjustcool',\n",
       " 'YouhavenewmessageCall',\n",
       " 'Icanmakeituptheresqueezedltgtbucksoutofmydad',\n",
       " 'GooddaytoYoutooPrayformeRemovetheteethasitspainfulmaintainingotherstuff',\n",
       " 'HowareyoubabesHopeyourdoingokIhadashitnightssleepIfellasleepatImknackeredandimdreadingworktonightWhatarethouuptotonightX',\n",
       " 'HowdofriendshelpusinproblemsTheygivethemoststupidsuggestionthatLandsusintoanotherproblemandhelpsusforgtthepreviousproblem',\n",
       " 'ImatworkPleasecall',\n",
       " 'IwillbegentlebabySoonyouwillbetakingallltgtinchesdeepinsideyourtightpussy',\n",
       " 'NOTMUCHNOFIGHTSITWASAGOODNITE',\n",
       " 'Okokokthenwhatsurtodaysplan',\n",
       " 'Ntjokingseriouslyitold',\n",
       " 'Watchingajithfilmah',\n",
       " 'OooooohIforgottotelluIcangetonyovilleonmyphone',\n",
       " 'AlldoneallhandedinDontknowifmegashopinasdacountsascelebrationbutthatswhatimdoing',\n",
       " 'Idontknowexactlycouldyouaskchechi',\n",
       " 'Dunnoleishdbdrivinglorcosigoschhroni',\n",
       " 'Asiniwantcustomofficerdiscountoh',\n",
       " 'Thatsnecessarilyrespectful',\n",
       " 'HiHopeyouhadagooddayHaveabetternight',\n",
       " 'Andhesapparentlybffswithcarlyquicknow',\n",
       " 'HARDBUTTRUEHowmuchyoushowampexpressyourlovetosomeonethatmuchitwillhurtwhentheyleaveyouoryougetseperatedudevening',\n",
       " 'BabesIthinkIgoturbrollyIleftitinEnglishwilbringitinmrwuluvFranxx',\n",
       " 'HibabeitsmethanksforcomingeventhoughitdidntgothatwellijustwantedmybedHopetoseeyousoonloveandkissesxxx',\n",
       " 'SogdgotfreeicecreamIosowan',\n",
       " 'Plsgiveherprometazinesyrupmlsthenltgtminslaterfeed',\n",
       " 'Sohowmanydayssincethen',\n",
       " 'Dearareyouangryiwasbusydear',\n",
       " 'YuphemsgmeistatyijueThenitotitsmygroupmatecoswemeetingtodaymahImaskinifleavingearlierorwatmahcosmaybhaftowalkvfar',\n",
       " 'Areyouinthepub',\n",
       " 'Thereisafirsttimeforeverything',\n",
       " 'DaddyshushuislookinguUwanmetellhimurenotinsingaporeorwat',\n",
       " 'Iaskifumeetingdagetmrnite',\n",
       " 'GrSohowdoyouhandlethevictoriaislandtrafficPluswhensthealbumdue',\n",
       " 'NitenitepocaywocayluvumorethannethingevaIpromiseringumorrowxxxx',\n",
       " 'Eastcoast',\n",
       " 'YoushouldgetmorechickenbrothifyouwantramenunlesstheressomeIdontknowabout',\n",
       " 'MyslaveIwantyoutotakeorpicturesofyourselftodayinbrightlightonyourcellphoneBrightlight',\n",
       " 'NopeIjustforgotWillshownextweek',\n",
       " 'SohowareyoureallyWhatareyouuptoHowsthemastersAndsoon',\n",
       " 'ImatbruceampfowlernowbutIminmymomscarsoIcantparklongstory',\n",
       " 'IdontknowohHopefullythismonth',\n",
       " 'Hielaineistodaysmeetingconfirmed',\n",
       " 'Okksryiknwsivatatsyiaskd',\n",
       " 'SorryIllcalllater',\n",
       " 'UhorriblegalUknewdatiwasgoingoutwifhimyestnustillcomenaskme',\n",
       " 'Otherwisehadparttimejobnatuition',\n",
       " 'OhyeahAndmydietjustflewoutthewindow',\n",
       " 'SantaCallingWouldyourlittleoneslikeacallfromSantaXmaseveCalltobookyourtime',\n",
       " 'Youdidntcompleteyourgistoh',\n",
       " 'EryeahiwillbthereatsorryJusttellmewhichpubcafetositinandcomewenucan',\n",
       " 'Ifyoucanmakeitanytimetonightorwheneveryoucanitscooljusttextmewheneveryourearound',\n",
       " 'IfIwasIwasntpayingattention',\n",
       " 'Thanxaloturhelp',\n",
       " 'Youregonnahavetobewaymorespecificthanthat',\n",
       " 'Jesusarmandreallyistryingtotelleverybodyhecanfind',\n",
       " 'Imwifhimnowbuyingtixlar',\n",
       " 'Modemenorhaveyouleft',\n",
       " 'Amslowinusingbiolasfne',\n",
       " 'WhatareyoudoinglaterSarxxx',\n",
       " 'Heyivebookedthelessonsonsunliao',\n",
       " 'Thankyoudoyougenerallydatethebrothas',\n",
       " 'BythewaymakesureugettraintoworcforegatestreetnotshrubhillHavefunnightx',\n",
       " 'IthoughtidgethimawatchjustcosthatsthekindofthingugetanthAndhelovessomuch',\n",
       " 'YouhavewonaguaranteedawardormaybeevencashtoclaimurawardcallfreeonItsalegitimatefreefonenumberwatdouthink',\n",
       " 'GoodmorningAttherepairshoptheONLYreasonimupatthishour',\n",
       " 'AndthatsfineIgotenoughbudtolastmostofthenightatleast',\n",
       " 'IambackGoodjourneyLetmeknowifyouneedanyofthereceiptsShallitellyoulikethependent',\n",
       " 'Sothattakesawaysomemoneyworries',\n",
       " 'aightwecanpicksomeupyouopenbeforetonight',\n",
       " 'LatestNewsPolicestationtoiletstolencopshavenothingtogoon',\n",
       " 'Sacneedstocarryon',\n",
       " 'JustsingHUIthinkitsalsoimportanttofindsomeonefemalethatknowtheplacewellpreferablyacitizenthatisalsosmarttohelpyounavigatethroughEventhingslikechoosingaphoneplanrequireguidanceWhenindoubtaskespeciallygirls',\n",
       " 'WhatHellowatstalksemailaddress',\n",
       " 'Excepttheresachickwithhugeboobs',\n",
       " 'Imjustwonderingwhatyourdoingrightnow',\n",
       " 'WishingyouabeautifuldayEachmomentrevealingevenmorethingstokeepyousmilingDoenjoyit',\n",
       " 'Forthemostsparklingshoppingbreaksfromperpersoncallorvisitwwwshortbreaksorguk',\n",
       " 'Aruncanutransfrmedamt',\n",
       " 'SorryIllcalllater',\n",
       " 'IfyouhearaloudscreaminaboutltgtminutesitscausemyGynowillbeshovingthingsupmethatdontbelong',\n",
       " 'DecemberonlyHadyourmobilemthsYouareentitledtoupdatetothelatestcolourcameramobileforFreeCallTheMobileUpdateCoFREEon',\n",
       " 'OkithkigotitThenuwanmecomenoworwat',\n",
       " 'TxtCALLtoNoclaimyourrewardofhourstalktimetousefromyourphonenowSubscribeGBPmnthinchrsstoptxtStopwwwgambtv',\n",
       " 'UGOINOUTNITE',\n",
       " 'Iwilltreasureeverymomentwespendtogether',\n",
       " 'ShallIbringusabottleofwinetokeepusamusedOnlyjokingIllbringoneanyway',\n",
       " 'httptmswidelivecomindexwmlidadafirsttrueCCRingtone',\n",
       " 'GetyourgardenreadyforsummerwithaFREEselectionofsummerbulbsandseedsworthonlywithTheScotsmanthisSaturdayTostopgonotxtcouk',\n",
       " 'URGENTLastweekendsdrawshowsthatyouhavewoncashoraSpanishholidayCALLNOWtoclaimTCRSTMSWSSppm',\n",
       " 'Oklor',\n",
       " 'Ithoughtslideisenough',\n",
       " 'Yup',\n",
       " 'Wellobviouslynotbecauseallthepeopleinmycoolcollegelifewenthome',\n",
       " 'Oklorreachingthenmessageme',\n",
       " 'WheresmummysboyIshebeinggoodorbadIshebeingpositiveornegativeWhyismummybeingmadetowaitHmmmm',\n",
       " 'Dhonihavelucktowinsomebigtitlesowewillwin',\n",
       " 'YesprincessIwanttopleaseyoueverynightYourwishismycommand',\n",
       " 'WhatTodaysundaysundayisholidaysonowork',\n",
       " 'Noprobablyltgt',\n",
       " 'ReallydohopetheworkdoesntgetstressfulHaveagrday',\n",
       " 'HaveyouseenwhosbackatHolby',\n",
       " 'Shallcallnowdearhavingfood',\n",
       " 'URGENTWearetryingtocontactyouLastweekendsdrawshowsuhavewonaprizeGUARANTEEDCallClaimcodeKValidhrsppm',\n",
       " 'SolihaiMeborednowdalecturerrepeatinglastweeksstuffwastetime',\n",
       " 'andpickingthemupfromvariouspointsgoingyeovilandtheywilldothemotorprojecthoursandthenutakethemhomemaxVeryeasy',\n",
       " 'AlsofuckyouandyourfamilyforgoingtorhodeislandorwhereverthefuckandleavingmeallalonetheweekIhaveanewbonggt',\n",
       " 'OfcourseIalsouploadsomesongs',\n",
       " 'ppermintocallGermanyfromyourBTlineJustpperminCheckPlanetTalkInstantcomforinfoTsCsTextstoptooptout',\n",
       " 'KIwillsentitagain',\n",
       " 'Ohthanksalotialreadyboughteggs',\n",
       " 'KIwillsentitagain',\n",
       " 'UstudyinginschorgoinghomeAnywayillbgoingschlater',\n",
       " 'MarvelMobilePlaytheofficialUltimateSpidermangameonurmobilerightnowTextSPIDERtoforthegamewellsenduaFREEBallwallpaper',\n",
       " 'Ithinkifheruletamilnaduthenitsverytoughforourpeople',\n",
       " 'CoolweshallgoandseehavetogototipanywayAreyouathomegotsomethingtodropinlaterSoletsgototowntonightMaybemumcantakeusin',\n",
       " 'GoodafternoonmyloveHowgoesyourdayHowdidyousleepIhopeyourwellmyboytoyIthinkofyou',\n",
       " 'YesItrustutobuynewstuffASAPsoIcantryitout',\n",
       " 'SMSSERVICESforyourinclusivetextcreditsplsgotowwwcomuknetloginqxjunsubscribewithSTOPnoextrachargehelpCOMUKCMAE',\n",
       " 'WhydidIwakeuponmyowngt',\n",
       " 'NowgetstepouttathewayCongratsagain',\n",
       " 'LovehasonelawMakehappythepersonyouloveInthesamewayfriendshiphasonelawNevermakeurfriendfeelaloneuntilyouarealiveGudnight',\n",
       " 'PRIVATEYourAccountStatementforshowsunredeemedSIMpointsCallIdentifierCodeExpires',\n",
       " 'Apoallotheraremokkaplayersonly',\n",
       " 'PerhapsismucheasygiveyouraccountidentificationsoiwilltomorrowatUNI',\n",
       " 'WaitIwillmsgafterltgtmin',\n",
       " 'WhatitoldbeforeitellStupidhearafteriwonttellanythingtoyouYoudadcalledtomybrotherandspokenNotwithme',\n",
       " 'GodslovehasnolimitGodsgracehasnomeasureGodspowerhasnoboundariesMayuhaveGodsendlessblessingsalwaysinurlifeGudni',\n",
       " 'Iwanttobeinsideyoueverynight',\n",
       " 'Machanyougotogymtomorrowiwilcomelategoodnight',\n",
       " 'Loltheyweremadatfirstbutthentheywokeupandgavein',\n",
       " 'Iwenttoprojectcentre',\n",
       " 'Itsreassuringinthiscrazyworld',\n",
       " 'Justmakingdinneryou',\n",
       " 'YesPleaseleaveatltgtSothatatltgtwecanleave',\n",
       " 'OhOkielorWegoonsat',\n",
       " 'YouareagreatrolemodelYouaregivingsomuchandireallywisheachdayforamiraclebutGodasareasonforeverythingandimustsayiwishiknewwhybutidontIvelookeduptoyousinceiwasyoungandistilldoHaveagreatday',\n",
       " 'YaimreferintomeisexwatNoahwaitinutotreatsomebodyshldbrichliaoSogddenudunhavetoworkfrmtmronwards',\n",
       " 'MilesandsmilesrmadefrmsamelettersbutdouknowddifferencesmileonurfacekeepsmehappyeventhoughIammilesawayfromukeepsmilingGoodnyt',\n",
       " 'BythewayiveputaskiprightoutsidethefrontofthehousesoyoucanseewhichhouseitisJustpullupbeforeit',\n",
       " 'CanyouplssendmethatcompanynameInsaibabacolany',\n",
       " 'NoIdontwanttohearanything',\n",
       " 'YouareabigchicCommonDeclare',\n",
       " 'ThatscoolIwanttopleaseyou',\n",
       " 'Goingtojointomorrow',\n",
       " 'YouareawardedaSiPixDigitalCameracallfromlandlineDeliverywithindaysTCsBoxMBPyrwarrantyppmpp',\n",
       " 'IwanttotellyouhowbadIfeelthatbasicallytheonlytimesItextyoulatelyarewhenIneeddrugs',\n",
       " 'PRIVATEYourAccountStatementforshowsunredeemedSIMpointsCallIdentifierCodeExpires',\n",
       " 'TotaldisappointmentwhenItextedyouwasthecraziestshitgot',\n",
       " 'ItsjusttheeffectofirritationJustignoreit',\n",
       " 'Whataboutthisonethen',\n",
       " 'IthinkthattantrumsfinishedsoyeahIllbebyatsomepoint',\n",
       " 'ComplimentstoyouWasawayfromthesystemHowyourside',\n",
       " 'happenedherewhileyouwereadventuring',\n",
       " 'HeychiefcanyougivemeabellwhenyougetthisNeedtotalktoyouaboutthisroyalvisitonthestjune',\n",
       " 'Okwhichyouranothernumber',\n",
       " 'IknowyouarethinkinmalariaButrelaxchildrencanthandlemalariaShewouldhavebeenworseanditsgastroenteritisIfshetakesenoughtoreplaceherlosshertempwillreduceAndifyougivehermalariamedsnowshewilljustvomitItsaselflimitingillnessshehaswhichmeansinafewdaysitwillcompletelystop',\n",
       " 'Aiyahokwataslongasgotimprovecanalreadywat',\n",
       " 'WantexplicitSEXinsecsRingnowCostspminGsexPOBOXWCNXX',\n",
       " 'IcantbelievehowattachedIamtoseeingyoueverydayIknowyouwilldothebestyoucantogettomebabeIwillgototeachmyclassatyourmidnight',\n",
       " 'Justsleepingandsurfing',\n",
       " 'ASKEDMOBILEIFCHATLINESINCLUINFREEMINSINDIACUSTSERVsSEDYESLERGOTMEGABILLDONTGIVASHITBAILIFFDUEINDAYSIOWANT',\n",
       " 'Yeahitsjusrite',\n",
       " 'Armandsaysgetyourassovertoepsilon',\n",
       " 'Ustillhaventgoturselfajacketah',\n",
       " 'ImtakingderekamptaylortowalmartifImnotbackbythetimeyouredonejustleavethemouseonmydeskandIlltextyouwhenpriscillasready',\n",
       " 'Hiitsindurbanareyoustillonthisnumber',\n",
       " 'IcTherearealottachildporncarsthen',\n",
       " 'HadyourcontractmobileMnthsLatestMotorolaNokiaetcallFREEDoubleMinsTextonOrangetariffsTEXTYESforcallbacknotoremovefromrecords',\n",
       " 'NoIwastryingitallweekendV',\n",
       " 'YouknowwotpeoplewearTshirtsjumpershatbeltisallweknowWeratCribbs',\n",
       " 'Coolwhattimeyouthinkyoucangethere',\n",
       " 'WendidyougetsospiritualanddeepThatsgreat',\n",
       " 'HaveasafetriptoNigeriaWishyouhappinessandverysooncompanytosharemomentswith',\n",
       " 'Hahahauseyourbraindear',\n",
       " 'WellkeepinmindIveonlygotenoughgasforonemoreroundtripbarringasuddeninfluxofcash',\n",
       " 'YehIndianswasniceThoitdidkanemeoffabitheheWeshudgooutadrinksometimesoonMitehavgodaworksalaughsoonLovePetexx',\n",
       " 'YesihaveSothatswhyutextedPshewmissingyousomuch',\n",
       " 'NoImeantthecalculationisthesameThatltgtunitsatltgtThisschoolisreallyexpensiveHaveyoustartedpracticingyouraccentBecauseitsimportantAndhaveyoudecidedifyouaredoingyearsofdentalschoolorifyoulljustdothenmdeexam',\n",
       " 'SorryIllcalllater',\n",
       " 'ifyouarenthereinthenextltgthoursimmaflipmyshit',\n",
       " 'AnythinglorJuzbothofuslor',\n",
       " 'GetmeoutofthisdumpheapMymomdecidedtocometolowesBORING',\n",
       " 'OklorSonyericssonsalesmanIaskshuhuithenshesayquitegdusesoiconsidering',\n",
       " 'Ardlikedatlor',\n",
       " 'Whydontyouwaittilatleastwednesdaytoseeifyougetyour']"
      ]
     },
     "execution_count": 12,
     "metadata": {},
     "output_type": "execute_result"
    }
   ],
   "source": [
    "X_messages"
   ]
  },
  {
   "cell_type": "markdown",
   "id": "62d61870",
   "metadata": {},
   "source": [
    "# Converting text to numbers"
   ]
  },
  {
   "cell_type": "raw",
   "id": "542da51d",
   "metadata": {},
   "source": [
    "Machine learning algorithms are  statistical algorithms that work with numbers. messages are in the form of text. you need to convert messages to text form. There are various ways to convert text into numbers. Here we have used TfIdf"
   ]
  },
  {
   "cell_type": "code",
   "execution_count": 13,
   "id": "e72c4896",
   "metadata": {},
   "outputs": [],
   "source": [
    "from nltk.corpus import stopwords \n",
    "from sklearn.feature_extraction.text import TfidfVectorizer \n",
    "tfidf_vec = TfidfVectorizer (max_features=2500, stop_words=stopwords.words('english')) \n",
    "X= tfidf_vec.fit_transform(X_messages).toarray()"
   ]
  },
  {
   "cell_type": "markdown",
   "id": "699cd52f",
   "metadata": {},
   "source": [
    "We specify that the 2500 most ooccuring words shoul be included in the ffeature set where a word should occur in a minimum of 7 messages and maximum of 880% of the messages. words that occur a very few times or in a large number of docuements are not very good for classification. hence  they are removed."
   ]
  },
  {
   "cell_type": "markdown",
   "id": "93c541d1",
   "metadata": {},
   "source": [
    "# Divide or split the dataset"
   ]
  },
  {
   "cell_type": "code",
   "execution_count": 14,
   "id": "1ec9c2a4",
   "metadata": {},
   "outputs": [],
   "source": [
    "from sklearn.model_selection import train_test_split \n",
    "X_train, X_test, y_train, y_test = train_test_split(X, y, test_size=0.25, random_state=42)"
   ]
  },
  {
   "cell_type": "markdown",
   "id": "16ed7db8",
   "metadata": {},
   "source": [
    "# Apply ML model"
   ]
  },
  {
   "cell_type": "code",
   "execution_count": 15,
   "id": "43f4a478",
   "metadata": {},
   "outputs": [],
   "source": [
    "# RANDOM FOREST CLASSSIER\n",
    "from sklearn.ensemble import RandomForestClassifier \n",
    "rf_clf = RandomForestClassifier(n_estimators=250, random_state=0) \n",
    "rf_clf.fit(X_train, y_train) \n",
    "y_pred = rf_clf.predict(X_test)"
   ]
  },
  {
   "cell_type": "code",
   "execution_count": 16,
   "id": "b7bfca2d",
   "metadata": {},
   "outputs": [
    {
     "name": "stdout",
     "output_type": "stream",
     "text": [
      "0.8719512195121951\n"
     ]
    }
   ],
   "source": [
    "print(accuracy_score(y_test,y_pred))"
   ]
  },
  {
   "cell_type": "code",
   "execution_count": 18,
   "id": "10270d24",
   "metadata": {},
   "outputs": [
    {
     "name": "stdout",
     "output_type": "stream",
     "text": [
      "0.13414634146341464\n"
     ]
    }
   ],
   "source": [
    "print(accuracy_score(y_test,y_pred))"
   ]
  },
  {
   "cell_type": "code",
   "execution_count": 19,
   "id": "31081ea0",
   "metadata": {},
   "outputs": [],
   "source": [
    "# BernoulliNB\n",
    "from sklearn.naive_bayes import BernoulliNB\n",
    "model = BernoulliNB()\n",
    "model.fit(X_train,y_train)\n",
    "y_pred= model.predict(X_test) "
   ]
  },
  {
   "cell_type": "code",
   "execution_count": 20,
   "id": "d5fceab9",
   "metadata": {},
   "outputs": [
    {
     "name": "stdout",
     "output_type": "stream",
     "text": [
      "0.8719512195121951\n"
     ]
    }
   ],
   "source": [
    "print(accuracy_score(y_test,y_pred))"
   ]
  },
  {
   "cell_type": "code",
   "execution_count": 21,
   "id": "b199cc4f",
   "metadata": {},
   "outputs": [],
   "source": [
    "# MultinomialNB\n",
    "from sklearn.naive_bayes import MultinomialNB\n",
    "model = MultinomialNB()\n",
    "model.fit(X_train,y_train)\n",
    "predicted= model.predict(X_test) "
   ]
  },
  {
   "cell_type": "code",
   "execution_count": 23,
   "id": "f1ee230a",
   "metadata": {},
   "outputs": [
    {
     "name": "stdout",
     "output_type": "stream",
     "text": [
      "0.8719512195121951\n"
     ]
    }
   ],
   "source": [
    "print(accuracy_score(y_test,predicted))"
   ]
  },
  {
   "cell_type": "code",
   "execution_count": null,
   "id": "3b3f3908",
   "metadata": {},
   "outputs": [],
   "source": []
  }
 ],
 "metadata": {
  "kernelspec": {
   "display_name": "Python 3 (ipykernel)",
   "language": "python",
   "name": "python3"
  },
  "language_info": {
   "codemirror_mode": {
    "name": "ipython",
    "version": 3
   },
   "file_extension": ".py",
   "mimetype": "text/x-python",
   "name": "python",
   "nbconvert_exporter": "python",
   "pygments_lexer": "ipython3",
   "version": "3.9.7"
  }
 },
 "nbformat": 4,
 "nbformat_minor": 5
}
